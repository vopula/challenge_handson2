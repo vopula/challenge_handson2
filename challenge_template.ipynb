{
  "cells": [
    {
      "cell_type": "markdown",
      "metadata": {
        "colab_type": "text",
        "id": "view-in-github"
      },
      "source": [
        "<a href=\"https://colab.research.google.com/github/vopula/challenge_handson2/blob/main/challenge_template.ipynb\" target=\"_parent\"><img src=\"https://colab.research.google.com/assets/colab-badge.svg\" alt=\"Open In Colab\"/></a>"
      ]
    },
    {
      "cell_type": "markdown",
      "metadata": {
        "id": "ugSq1_Oc_sOP"
      },
      "source": [
        "## Import Libraries"
      ]
    },
    {
      "cell_type": "code",
      "execution_count": 1,
      "metadata": {
        "id": "veNbRwRZ_r_7"
      },
      "outputs": [],
      "source": [
        "import pandas as pd\n",
        "import random\n",
        "import copy\n",
        "import math\n",
        "import time\n",
        "import matplotlib.pyplot as plt"
      ]
    },
    {
      "cell_type": "markdown",
      "metadata": {
        "id": "Ms4PO_jv_ZK-"
      },
      "source": [
        "## Dataset"
      ]
    },
    {
      "cell_type": "code",
      "execution_count": 2,
      "metadata": {
        "id": "WuaXPLFyAD6K"
      },
      "outputs": [],
      "source": [
        "events_data_its = [\n",
        "    {\"event_id\": \"E001\", \"event_name\": \"Seminar Nasional AI\", \"organizer\": \"HIMATEKKOM\", \"duration_hours\": 4, \"expected_participants\": 150, \"required_facility\": \"Proyektor, Sound System\", \"preferred_day\": 1, \"preferred_time_slot\": \"Pagi\", \"priority\": 1},\n",
        "    {\"event_id\": \"E002\", \"event_name\": \"Rapat Koordinasi BEM\", \"organizer\": \"BEM ITS\", \"duration_hours\": 2, \"expected_participants\": 25, \"required_facility\": \"Standar\", \"preferred_day\": 2, \"preferred_time_slot\": \"Sore\", \"priority\": 2},\n",
        "    {\"event_id\": \"E003\", \"event_name\": \"Pameran Karya Mahasiswa Arsitektur\", \"organizer\": \"HIMA ARSITEKTUR\", \"duration_hours\": 8, \"expected_participants\": 200, \"required_facility\": \"Area Pameran, Pencahayaan Baik\", \"preferred_day\": 3, \"preferred_time_slot\": \"Sepanjang Hari\", \"priority\": 1},\n",
        "    {\"event_id\": \"E004\", \"event_name\": \"Kuliah Tamu Prof. X\", \"organizer\": \"Departemen Teknik Fisika\", \"duration_hours\": 2, \"expected_participants\": 80, \"required_facility\": \"Proyektor\", \"preferred_day\": 4, \"preferred_time_slot\": \"Siang\", \"priority\": 1},\n",
        "    {\"event_id\": \"E005\", \"event_name\": \"Pelatihan Software CAD\", \"organizer\": \"HMM MESIN\", \"duration_hours\": 4, \"expected_participants\": 40, \"required_facility\": \"Lab Komputer\", \"preferred_day\": 5, \"preferred_time_slot\": \"Pagi\", \"priority\": 2},\n",
        "    {\"event_id\": \"E006\", \"event_name\": \"Diskusi Panel Lingkungan\", \"organizer\": \"ITS Green Community\", \"duration_hours\": 3, \"expected_participants\": 60, \"required_facility\": \"Proyektor, Sound System\", \"preferred_day\": 1, \"preferred_time_slot\": \"Siang\", \"priority\": 2},\n",
        "    {\"event_id\": \"E007\", \"event_name\": \"Lomba Cerdas Cermat Kimia\", \"organizer\": \"HIMATEK KIMIA\", \"duration_hours\": 5, \"expected_participants\": 100, \"required_facility\": \"Aula Kecil, Papan Tulis\", \"preferred_day\": None, \"preferred_time_slot\": \"Pagi\", \"priority\": 1},\n",
        "    {\"event_id\": \"E008\", \"event_name\": \"Rapat Internal UKM Tari\", \"organizer\": \"UKM Tari\", \"duration_hours\": 2, \"expected_participants\": 20, \"required_facility\": \"Standar\", \"preferred_day\": 3, \"preferred_time_slot\": \"Malam\", \"priority\": 3},\n",
        "    {\"event_id\": \"E009\", \"event_name\": \"Job Fair Mini\", \"organizer\": \"SAC ITS\", \"duration_hours\": 7, \"expected_participants\": 300, \"required_facility\": \"Area Pameran Luas, Meja Registrasi\", \"preferred_day\": 2, \"preferred_time_slot\": \"Sepanjang Hari\", \"priority\": 1},\n",
        "]\n",
        "\n",
        "rooms_data_its = [\n",
        "    {\"room_id\": \"R01\", \"room_name\": \"Aula Rektorat ITS\", \"capacity\": 300, \"available_facilities\": [\"Proyektor\", \"Sound System\", \"AC\", \"Panggung\", \"Area Pameran Luas\", \"Meja Registrasi\"], \"unavailable_slots\": [(3, 13, 15)]},\n",
        "    {\"room_id\": \"R02\", \"room_name\": \"Ruang Seminar T. Fisika\", \"capacity\": 100, \"available_facilities\": [\"Proyektor\", \"AC\", \"Papan Tulis\", \"Aula Kecil\"], \"unavailable_slots\": []},\n",
        "    {\"room_id\": \"R03\", \"room_name\": \"Teater A Ged. SCC\", \"capacity\": 150, \"available_facilities\": [\"Proyektor\", \"Sound System\", \"AC\", \"Layar Besar\"], \"unavailable_slots\": [(1, 8, 10)]},\n",
        "    {\"room_id\": \"R04\", \"room_name\": \"Lab Komputer Dasar Ged. TI\", \"capacity\": 40, \"available_facilities\": [\"Lab Komputer\", \"Proyektor\", \"AC\"], \"unavailable_slots\": []},\n",
        "    {\"room_id\": \"R05\", \"room_name\": \"Ruang Rapat Departemen Matematika\", \"capacity\": 30, \"available_facilities\": [\"Proyektor\", \"AC\", \"Papan Tulis\", \"Meja Rapat\", \"Standar\"], \"unavailable_slots\": [(2, 10, 12), (4,10,12)]},\n",
        "    {\"room_id\": \"R06\", \"room_name\": \"Hall Gedung Robotika\", \"capacity\": 200, \"available_facilities\": [\"Area Pameran\", \"Area Kerja Luas\", \"Listrik Banyak\", \"AC\", \"Pencahayaan Baik\"], \"unavailable_slots\": []},\n",
        "    {\"room_id\": \"R07\", \"room_name\": \"Ruang Kelas GKB Lt.3 No.301\", \"capacity\": 50, \"available_facilities\": [\"Standar\", \"Proyektor\", \"Papan Tulis\"], \"unavailable_slots\": []},\n",
        "]\n",
        "\n",
        "# Definisi Slot Waktu Operasional\n",
        "DAYS_OF_WEEK = 5 # Senin-Jumat\n",
        "START_HOUR_OPERATIONAL = 8\n",
        "END_HOUR_OPERATIONAL = 17 # Jam operasional kantor (acara bisa mulai paling lambat jam ini)\n",
        "MAX_EVENT_END_HOUR = 18 # Acara bisa selesai paling lambat jam ini"
      ]
    },
    {
      "cell_type": "markdown",
      "metadata": {
        "id": "P180B0o6AGMO"
      },
      "source": [
        "# Fungsi-Fungsi"
      ]
    },
    {
      "cell_type": "markdown",
      "metadata": {
        "id": "x9_ZFzGGAbJ5"
      },
      "source": [
        "## Membuat semua kemungkinan slot (day, hour)"
      ]
    },
    {
      "cell_type": "code",
      "execution_count": 3,
      "metadata": {
        "id": "5rr4iM-iATuH"
      },
      "outputs": [],
      "source": [
        "# Helper Dictionaries & Lists\n",
        "event_dict_its = {event['event_id']: event for event in events_data_its}\n",
        "room_dict_its = {room['room_id']: room for room in rooms_data_its}\n",
        "all_event_ids_its = list(event_dict_its.keys())"
      ]
    },
    {
      "cell_type": "markdown",
      "metadata": {
        "id": "oc8EmS1oAXOl"
      },
      "source": [
        "## Slot Tersedia"
      ]
    },
    {
      "cell_type": "code",
      "execution_count": 4,
      "metadata": {
        "id": "Pom2GBiVAjb5"
      },
      "outputs": [],
      "source": [
        "def is_slot_available(room_id, day, start_hour, duration, current_schedule, room_unavailable_slots, max_end_hour_op):\n",
        "    \"\"\" Cek apakah slot waktu tertentu di ruangan tertentu tersedia \"\"\"\n",
        "    # Cek ketersediaan ruangan dari data master\n",
        "    for unavail_day, unavail_start, unavail_end in room_unavailable_slots:\n",
        "        for h_offset in range(duration):\n",
        "            current_event_hour = start_hour + h_offset\n",
        "            if day == unavail_day and current_event_hour >= unavail_start and current_event_hour < unavail_end:\n",
        "                return False # Bertabrakan dengan jadwal unavailable ruangan\n",
        "\n",
        "    # Cek apakah sudah ada event lain di schedule pada slot tersebut\n",
        "    for h_offset in range(duration):\n",
        "        current_event_hour = start_hour + h_offset\n",
        "        if current_event_hour > max_end_hour_op -1: # Jam acara sudah di luar batas akhir\n",
        "             return False\n",
        "        for scheduled_event_id, schedule_info in current_schedule.items():\n",
        "            if schedule_info is None: continue\n",
        "            if schedule_info['room_id'] == room_id and schedule_info['day_id'] == day:\n",
        "                sch_start = schedule_info['start_hour']\n",
        "                sch_event = event_dict_its[scheduled_event_id]\n",
        "                sch_end = sch_start + sch_event['duration_hours']\n",
        "                # Cek overlap\n",
        "                if max(start_hour, sch_start) < min(start_hour + duration, sch_end):\n",
        "                    return False # Overlap\n",
        "    return True"
      ]
    },
    {
      "cell_type": "markdown",
      "metadata": {
        "id": "3OQPPpS0AjHT"
      },
      "source": [
        "## Mengecek Kesediaan Ruangan"
      ]
    },
    {
      "cell_type": "code",
      "execution_count": 5,
      "metadata": {
        "id": "Sy-m4E-YAog3"
      },
      "outputs": [],
      "source": [
        "def check_room_requirements(event, room):\n",
        "    # HC2: Kapasitas\n",
        "    if event['expected_participants'] > room['capacity']:\n",
        "        return False\n",
        "    # HC3: Fasilitas\n",
        "    if event.get('required_facility') and event['required_facility'] != \"Standar\":\n",
        "        needed_facilities = [f.strip().lower() for f in event['required_facility'].split(',')]\n",
        "        room_facilities_lower = [f.lower() for f in room.get('available_facilities', [])]\n",
        "        for needed_fac in needed_facilities:\n",
        "            if needed_fac not in room_facilities_lower:\n",
        "                return False\n",
        "    return True"
      ]
    },
    {
      "cell_type": "markdown",
      "metadata": {
        "id": "iV2VdNIUA69F"
      },
      "source": [
        "## Solusi Awal"
      ]
    },
    {
      "cell_type": "code",
      "execution_count": 6,
      "metadata": {
        "id": "cSuFbm3wA0RN"
      },
      "outputs": [],
      "source": [
        "def buat_solusi_awal_its(event_ids_to_schedule, rooms, days, start_op_hour, end_op_hour, max_event_end_h):\n",
        "    solusi = {}\n",
        "    # Urutkan event berdasarkan prioritas (opsional, tapi bisa membantu)\n",
        "    # sorted_event_ids = sorted(event_ids_to_schedule, key=lambda eid: event_dict_its[eid]['priority'])\n",
        "    shuffled_event_ids = random.sample(event_ids_to_schedule, len(event_ids_to_schedule))\n",
        "\n",
        "\n",
        "    for event_id in shuffled_event_ids:\n",
        "        event = event_dict_its[event_id]\n",
        "        best_slot_found = None\n",
        "\n",
        "        possible_placements = []\n",
        "        for room_id, room_data in rooms.items():\n",
        "            if not check_room_requirements(event, room_data):\n",
        "                continue # Ruangan tidak memenuhi syarat kapasitas/fasilitas\n",
        "\n",
        "            for day in range(1, days + 1):\n",
        "                # Coba tempatkan dengan preferensi hari jika ada\n",
        "                if event.get(\"preferred_day\") is not None and event[\"preferred_day\"] != day:\n",
        "                    continue\n",
        "\n",
        "                for start_h in range(start_op_hour, end_op_hour + 1): # Sampai jam terakhir bisa mulai\n",
        "                    if start_h + event['duration_hours'] > max_event_end_h: # Jika selesai di luar batas akhir\n",
        "                        continue\n",
        "\n",
        "                    # Cek preferensi slot waktu pagi/siang/sore\n",
        "                    # Ini bisa jadi lebih kompleks, untuk awal kita abaikan dulu di sini\n",
        "\n",
        "                    if is_slot_available(room_id, day, start_h, event['duration_hours'], solusi, room_data.get('unavailable_slots', []), max_event_end_h):\n",
        "                        possible_placements.append({'room_id': room_id, 'day_id': day, 'start_hour': start_h})\n",
        "\n",
        "        if possible_placements:\n",
        "            solusi[event_id] = random.choice(possible_placements)\n",
        "        else:\n",
        "            solusi[event_id] = None # Tidak bisa dijadwalkan\n",
        "            # print(f\"Warning: Event {event_id} tidak bisa dijadwalkan di solusi awal.\")\n",
        "\n",
        "    return solusi"
      ]
    },
    {
      "cell_type": "markdown",
      "metadata": {
        "id": "1X8Mn_6yBFP7"
      },
      "source": [
        "## Calculate Fitness"
      ]
    },
    {
      "cell_type": "code",
      "execution_count": null,
      "metadata": {
        "id": "qVvIS65nBHJA"
      },
      "outputs": [],
      "source": [
        "def calculate_fitness_its(solusi, all_target_event_ids, events_lookup, rooms_lookup,\n",
        "                          days_op, start_op_hour, end_op_hour, max_event_end_h):\n",
        "    penalty = 0\n",
        "    PENALTI_HC_BASE = 1000\n",
        "    PENALTI_SC_BASE = 50\n",
        "\n",
        "    room_day_hour_occupancy = {}\n",
        "\n",
        "    actually_scheduled_event_ids = set()\n",
        "\n",
        "    for event_id, schedule_info in solusi.items():\n",
        "        if schedule_info is None:\n",
        "            continue # Penalti untuk tidak terjadwal dihitung di akhir\n",
        "\n",
        "        actually_scheduled_event_ids.add(event_id)\n",
        "        event = events_lookup[event_id]\n",
        "        room = rooms_lookup[schedule_info['room_id']]\n",
        "        day = schedule_info['day_id']\n",
        "        start_h = schedule_info['start_hour']\n",
        "        duration = event['duration_hours']\n",
        "\n",
        "        # HC5: Durasi dalam jam operasional\n",
        "        if start_h < start_op_hour or (start_h + duration > max_event_end_h) :\n",
        "            penalty += PENALTI_HC_BASE\n",
        "            # print(f\"Debug HC5: {event_id} jam {start_h}-{start_h+duration} di luar op {start_op_hour}-{max_event_end_h}\")\n",
        "\n",
        "        for h_offset in range(duration):\n",
        "            current_hour = start_h + h_offset\n",
        "            if current_hour >= max_event_end_h : # Jika jam sudah melebihi batas akhir, slot tidak valid\n",
        "                # Penalti HC5 sudah menghitung ini jika mulai terlalu lambat\n",
        "                break\n",
        "\n",
        "            # HC1: Konflik Ruang (Overlap)\n",
        "            key_occupancy = (schedule_info['room_id'], day, current_hour)\n",
        "            if key_occupancy in room_day_hour_occupancy:\n",
        "                penalty += PENALTI_HC_BASE\n",
        "                # print(f\"Debug HC1: Konflik di {key_occupancy} oleh {event_id} dan {room_day_hour_occupancy[key_occupancy]}\")\n",
        "            else:\n",
        "                room_day_hour_occupancy[key_occupancy] = event_id\n",
        "\n",
        "            # HC4: Ketersediaan Ruang (dari unavailable_slots ruangan)\n",
        "            for unavail_day, unavail_start, unavail_end in room.get('unavailable_slots', []):\n",
        "                if day == unavail_day and current_hour >= unavail_start and current_hour < unavail_end:\n",
        "                    penalty += PENALTI_HC_BASE\n",
        "                    # print(f\"Debug HC4: {event_id} di {schedule_info['room_id']} pada slot unavail ({day}, {current_hour})\")\n",
        "                    break\n",
        "\n",
        "        # HC2: Kapasitas Ruang\n",
        "        if event['expected_participants'] > room['capacity']:\n",
        "            penalty += PENALTI_HC_BASE * max(1, (event['expected_participants'] - room['capacity']) // 10)\n",
        "            # print(f\"Debug HC2: {event_id} butuh {event['expected_participants']}, {room['room_id']} kap {room['capacity']}\")\n",
        "\n",
        "        # HC3: Fasilitas Ruang\n",
        "        if event.get('required_facility') and event['required_facility'] != \"Standar\":\n",
        "            needed_facilities = [f.strip().lower() for f in event['required_facility'].split(',')]\n",
        "            room_facilities_lower = [f.lower() for f in room.get('available_facilities', [])]\n",
        "            has_all_needed = True\n",
        "            for needed_fac in needed_facilities:\n",
        "                if needed_fac not in room_facilities_lower:\n",
        "                    has_all_needed = False\n",
        "                    break\n",
        "            if not has_all_needed:\n",
        "                penalty += PENALTI_HC_BASE\n",
        "                # print(f\"Debug HC3: {event_id} butuh {event['required_facility']}, tidak semua ada di {room['room_id']}\")\n",
        "\n",
        "        # --- Soft Constraints ---\n",
        "        # SC1: Preferensi Waktu/Hari\n",
        "        if event.get(\"preferred_day\") is not None and event[\"preferred_day\"] != day:\n",
        "            penalty += PENALTI_SC_BASE\n",
        "\n",
        "        pref_time_slot = event.get(\"preferred_time_slot\")\n",
        "        if pref_time_slot:\n",
        "            is_preferred_time = False\n",
        "            if pref_time_slot == \"Pagi\" and start_h >= 8 and start_h <= 10: is_preferred_time = True # Misal 08-11\n",
        "            elif pref_time_slot == \"Siang\" and start_h >= 11 and start_h <= 13: is_preferred_time = True # Misal 11-14\n",
        "            elif pref_time_slot == \"Sore\" and start_h >= 14 and start_h <= 16: is_preferred_time = True # Misal 14-17\n",
        "            elif pref_time_slot == \"Malam\" and start_h >= 17 : is_preferred_time = True # Mulai jam 17 ke atas\n",
        "            elif pref_time_slot == \"Sepanjang Hari\": is_preferred_time = True # Selalu terpenuhi jika terjadwal\n",
        "\n",
        "            if not is_preferred_time and pref_time_slot != \"Sepanjang Hari\":\n",
        "                penalty += PENALTI_SC_BASE\n",
        "\n",
        "    # HC6: Event Terjadwal\n",
        "    if not isinstance(all_target_event_ids, set):\n",
        "        set_all_target_event_ids = set(all_target_event_ids)\n",
        "    else:\n",
        "        set_all_target_event_ids = all_target_event_ids\n",
        "\n",
        "    unscheduled_count = len(set_all_target_event_ids - actually_scheduled_event_ids)\n",
        "    penalty += unscheduled_count * PENALTI_HC_BASE * 10 # Penalti sangat besar\n",
        "\n",
        "    return penalty"
      ]
    },
    {
      "cell_type": "markdown",
      "metadata": {
        "id": "98RbzYaLBJbq"
      },
      "source": [
        "## Get Neighbor"
      ]
    },
    {
      "cell_type": "code",
      "execution_count": null,
      "metadata": {
        "id": "KlJ6KY0FBKxk"
      },
      "outputs": [],
      "source": [
        "def dapatkan_tetangga_its(solusi_saat_ini, all_event_ids, rooms_lookup, days, start_op_h, end_op_h, max_event_end_h, mode=\"move_event\"):\n",
        "    tetangga = copy.deepcopy(solusi_saat_ini)\n",
        "    if not all_event_ids: return tetangga\n",
        "\n",
        "    event_to_change_id = random.choice(all_event_ids)\n",
        "    event_to_change_data = event_dict_its[event_to_change_id]\n",
        "\n",
        "    if mode == \"move_event\":\n",
        "        # Coba pindahkan event_to_change_id ke slot/ruang baru yang valid dan kosong\n",
        "        current_placement = tetangga.get(event_to_change_id)\n",
        "\n",
        "        # Hapus sementara event ini dari schedule untuk cek ketersediaan\n",
        "        temp_schedule_without_event = {e_id: p for e_id, p in tetangga.items() if e_id != event_to_change_id and p is not None}\n",
        "\n",
        "        possible_new_placements = []\n",
        "        for room_id_new, room_data_new in rooms_lookup.items():\n",
        "            if not check_room_requirements(event_to_change_data, room_data_new):\n",
        "                continue\n",
        "            for day_new in range(1, days + 1):\n",
        "                for start_h_new in range(start_op_h, end_op_h + 1):\n",
        "                    if start_h_new + event_to_change_data['duration_hours'] > max_event_end_h:\n",
        "                        continue\n",
        "                    if is_slot_available(room_id_new, day_new, start_h_new, event_to_change_data['duration_hours'],\n",
        "                                         temp_schedule_without_event, room_data_new.get('unavailable_slots', []), max_event_end_h):\n",
        "                        possible_new_placements.append({'room_id': room_id_new, 'day_id': day_new, 'start_hour': start_h_new})\n",
        "\n",
        "        if possible_new_placements:\n",
        "            tetangga[event_to_change_id] = random.choice(possible_new_placements)\n",
        "        # else: event tetap di tempatnya atau tidak terjadwal jika sebelumnya None\n",
        "\n",
        "    elif mode == \"swap_events\":\n",
        "        scheduled_events = [eid for eid, p in tetangga.items() if p is not None]\n",
        "        if len(scheduled_events) < 2: return tetangga # Butuh minimal 2 event terjadwal untuk ditukar\n",
        "\n",
        "        event1_id = random.choice(scheduled_events)\n",
        "        event2_id = random.choice(scheduled_events)\n",
        "        while event2_id == event1_id and len(scheduled_events) > 1 :\n",
        "             event2_id = random.choice(scheduled_events)\n",
        "        if event1_id == event2_id: return tetangga\n",
        "\n",
        "\n",
        "        event1_data = event_dict_its[event1_id]\n",
        "        event2_data = event_dict_its[event2_id]\n",
        "\n",
        "        p1 = tetangga[event1_id] # placement event 1\n",
        "        p2 = tetangga[event2_id] # placement event 2\n",
        "\n",
        "        # Cek apakah event1 bisa di slot p2 dan event2 bisa di slot p1\n",
        "        # Ini perlu validasi ketersediaan slot jika event lain dihapus sementara, dan validasi requirement\n",
        "\n",
        "        # Buat temporary schedule tanpa event1 dan event2\n",
        "        temp_schedule_swap = {eid: p for eid, p in tetangga.items() if eid not in [event1_id, event2_id] and p is not None}\n",
        "\n",
        "        # Cek apakah event1 valid di slot p2\n",
        "        valid_e1_at_p2 = False\n",
        "        if check_room_requirements(event1_data, rooms_lookup[p2['room_id']]):\n",
        "            if is_slot_available(p2['room_id'], p2['day_id'], p2['start_hour'], event1_data['duration_hours'],\n",
        "                                 temp_schedule_swap, rooms_lookup[p2['room_id']].get('unavailable_slots',[]), max_event_end_h):\n",
        "                valid_e1_at_p2 = True\n",
        "\n",
        "        # Cek apakah event2 valid di slot p1\n",
        "        valid_e2_at_p1 = False\n",
        "        if check_room_requirements(event2_data, rooms_lookup[p1['room_id']]):\n",
        "            if is_slot_available(p1['room_id'], p1['day_id'], p1['start_hour'], event2_data['duration_hours'],\n",
        "                                 temp_schedule_swap, rooms_lookup[p1['room_id']].get('unavailable_slots',[]), max_event_end_h):\n",
        "                valid_e2_at_p1 = True\n",
        "\n",
        "        if valid_e1_at_p2 and valid_e2_at_p1:\n",
        "            # Lakukan swap\n",
        "            tetangga[event1_id] = {'room_id': p2['room_id'], 'day_id': p2['day_id'], 'start_hour': p2['start_hour']}\n",
        "            tetangga[event2_id] = {'room_id': p1['room_id'], 'day_id': p1['day_id'], 'start_hour': p1['start_hour']}\n",
        "\n",
        "    elif mode == \"schedule_unscheduled\":\n",
        "        unscheduled_events = [eid for eid in all_event_ids if tetangga.get(eid) is None]\n",
        "        if not unscheduled_events: return tetangga\n",
        "\n",
        "        event_to_schedule_id = random.choice(unscheduled_events)\n",
        "        event_to_schedule_data = event_dict_its[event_to_schedule_id]\n",
        "\n",
        "        possible_placements = []\n",
        "        for room_id_new, room_data_new in rooms_lookup.items():\n",
        "            if not check_room_requirements(event_to_schedule_data, room_data_new):\n",
        "                continue\n",
        "            for day_new in range(1, days + 1):\n",
        "                for start_h_new in range(start_op_h, end_op_h + 1):\n",
        "                    if start_h_new + event_to_schedule_data['duration_hours'] > max_event_end_h:\n",
        "                        continue\n",
        "                    if is_slot_available(room_id_new, day_new, start_h_new, event_to_schedule_data['duration_hours'],\n",
        "                                         tetangga, room_data_new.get('unavailable_slots', []), max_event_end_h):\n",
        "                        possible_placements.append({'room_id': room_id_new, 'day_id': day_new, 'start_hour': start_h_new})\n",
        "        if possible_placements:\n",
        "            tetangga[event_to_schedule_id] = random.choice(possible_placements)\n",
        "\n",
        "    return tetangga"
      ]
    },
    {
      "cell_type": "markdown",
      "metadata": {
        "id": "YpeXHjoUDKk0"
      },
      "source": [
        "# Implementasi Algoritma ILS"
      ]
    },
    {
      "cell_type": "markdown",
      "metadata": {
        "id": "2aVnpZjRBdzT"
      },
      "source": [
        "## Fungsi Local Search (Hill Climbing)"
      ]
    },
    {
      "cell_type": "code",
      "execution_count": null,
      "metadata": {
        "id": "Lb350_oUBmgE"
      },
      "outputs": [],
      "source": [
        "def hill_climbing_its(solusi_awal, max_iter, all_event_ids, events_lookup, rooms_lookup, \n",
        "                      days_op, start_op_hour, end_op_hour, max_event_end_h):\n",
        "    solusi_saat_ini = solusi_awal\n",
        "    fitness_saat_ini = calculate_fitness_its(solusi_saat_ini, all_event_ids, events_lookup, rooms_lookup, days_op, start_op_hour, end_op_hour, max_event_end_h)\n",
        "\n",
        "    for i in range(max_iter):\n",
        "        tetangga = dapatkan_tetangga_its(solusi_saat_ini, all_event_ids, rooms_lookup, days_op, start_op_hour, end_op_hour, max_event_end_h)\n",
        "        fitness_tetangga = calculate_fitness_its(tetangga, all_event_ids, events_lookup, rooms_lookup, days_op, start_op_hour, end_op_hour, max_event_end_h)\n",
        "\n",
        "        if fitness_tetangga < fitness_saat_ini:\n",
        "            solusi_saat_ini = tetangga\n",
        "            fitness_saat_ini = fitness_tetangga\n",
        "\n",
        "    return solusi_saat_ini, fitness_saat_ini\n"
      ]
    },
    {
      "cell_type": "markdown",
      "metadata": {
        "id": "iUQ4XL2vBnRi"
      },
      "source": [
        "## Fungsi Perturbasi"
      ]
    },
    {
      "cell_type": "code",
      "execution_count": 24,
      "metadata": {
        "id": "pMcvA4eGBrtr"
      },
      "outputs": [],
      "source": [
        "def perturbasi_acak_its(solusi, all_event_ids, rooms_lookup, days_op, start_op_h, end_op_h, max_event_end_h):\n",
        "    solusi_baru = copy.deepcopy(solusi)\n",
        "    jumlah_perturbasi = max(1, len(all_event_ids) // 10)  # Misal 10% event diacak ulang\n",
        "\n",
        "    for _ in range(jumlah_perturbasi):\n",
        "        event_id = random.choice(all_event_ids)\n",
        "        solusi_baru[event_id] = None  # Hapus assignment\n",
        "\n",
        "    # Coba jadwalkan ulang yang dihapus tadi\n",
        "    for event_id in all_event_ids:\n",
        "        if solusi_baru[event_id] is None:\n",
        "            event = event_dict_its[event_id]\n",
        "            placements = []\n",
        "            for room_id, room in rooms_lookup.items():\n",
        "                if not check_room_requirements(event, room):\n",
        "                    continue\n",
        "                for day in range(1, days_op + 1):\n",
        "                    for start_h in range(start_op_h, end_op_h + 1):\n",
        "                        if start_h + event['duration_hours'] > max_event_end_h:\n",
        "                            continue\n",
        "                        if is_slot_available(room_id, day, start_h, event['duration_hours'], solusi_baru,\n",
        "                                             room.get('unavailable_slots', []), max_event_end_h):\n",
        "                            placements.append({'room_id': room_id, 'day_id': day, 'start_hour': start_h})\n",
        "            if placements:\n",
        "                solusi_baru[event_id] = random.choice(placements)\n",
        "\n",
        "    return solusi_baru\n"
      ]
    },
    {
      "cell_type": "markdown",
      "metadata": {
        "id": "ZxjVfOD7Br6b"
      },
      "source": [
        "## Fungsi ILS"
      ]
    },
    {
      "cell_type": "code",
      "execution_count": 66,
      "metadata": {
        "id": "iD9APfG-B2MU"
      },
      "outputs": [],
      "source": [
        "def iterated_local_search_its(jumlah_iterasi_utama, jumlah_iterasi_hill, all_event_ids, rooms_lookup, days_op, start_op_hour, end_op_hour, max_event_end_h):\n",
        "    solusi = buat_solusi_awal_its(all_event_ids, rooms_lookup, days_op, start_op_hour, end_op_hour, max_event_end_h)\n",
        "    solusi, fitness = hill_climbing_its(solusi, jumlah_iterasi_hill, all_event_ids, event_dict_its, rooms_lookup, days_op, start_op_hour, end_op_hour, max_event_end_h)\n",
        "    fitness = calculate_fitness_its(solusi, all_event_ids, event_dict_its, rooms_lookup, days_op, start_op_hour, end_op_hour, max_event_end_h)\n",
        "    fitness_history = [fitness]\n",
        "\n",
        "    for _ in range(jumlah_iterasi_utama):\n",
        "        solusi_terganggu = perturbasi_acak_its(solusi, all_event_ids, rooms_lookup, days_op, start_op_hour, end_op_hour, max_event_end_h)\n",
        "        solusi_baru, fitness_baru = hill_climbing_its(solusi_terganggu, jumlah_iterasi_hill, all_event_ids, event_dict_its,\n",
        "                                                      rooms_lookup, days_op, start_op_hour, end_op_hour, max_event_end_h)\n",
        "        if fitness_baru < fitness:\n",
        "            solusi = solusi_baru\n",
        "            fitness = fitness_baru\n",
        "        \n",
        "        fitness_history.append(fitness)\n",
        "\n",
        "    return solusi, fitness, fitness_history\n"
      ]
    },
    {
      "cell_type": "markdown",
      "metadata": {
        "id": "Lcl3zlMTB6U4"
      },
      "source": [
        "## Analisis"
      ]
    },
    {
      "cell_type": "code",
      "execution_count": 71,
      "metadata": {},
      "outputs": [
        {
          "name": "stdout",
          "output_type": "stream",
          "text": [
            "Fitness akhir: 50\n",
            "Semua event berhasil dijadwalkan.\n"
          ]
        }
      ],
      "source": [
        "hasil_solusi, nilai_fitness, fitness_history = iterated_local_search_its(\n",
        "    jumlah_iterasi_utama=20,\n",
        "    jumlah_iterasi_hill=100,\n",
        "    all_event_ids=all_event_ids_its,\n",
        "    rooms_lookup=room_dict_its,\n",
        "    days_op=DAYS_OF_WEEK,\n",
        "    start_op_hour=START_HOUR_OPERATIONAL,\n",
        "    end_op_hour=END_HOUR_OPERATIONAL,\n",
        "    max_event_end_h=MAX_EVENT_END_HOUR\n",
        ")\n",
        "\n",
        "print(\"Fitness akhir:\", nilai_fitness)\n",
        "\n",
        "tidak_terjadwal = [eid for eid, jadwal in hasil_solusi.items() if jadwal is None]\n",
        "if tidak_terjadwal:\n",
        "    print(f\"Ada {len(tidak_terjadwal)} event yang tidak terjadwalkan:\", tidak_terjadwal)\n",
        "else:\n",
        "    print(\"Semua event berhasil dijadwalkan.\")"
      ]
    },
    {
      "cell_type": "markdown",
      "metadata": {
        "id": "_yWrEFXtB9Og"
      },
      "source": [
        "## Visualisasi dan Verifikasi Akhir"
      ]
    },
    {
      "cell_type": "code",
      "execution_count": null,
      "metadata": {
        "id": "wWpxEWOoDTG4"
      },
      "outputs": [
        {
          "name": "stdout",
          "output_type": "stream",
          "text": [
            "Fitness akhir: 50\n"
          ]
        },
        {
          "data": {
            "image/png": "[encoded data removed]",
            "text/plain": [
              "<Figure size 1000x500 with 1 Axes>"
            ]
          },
          "metadata": {},
          "output_type": "display_data"
        }
      ],
      "source": [
        "import matplotlib.pyplot as plt\n",
        "import matplotlib.patches as mpatches\n",
        "\n",
        "import matplotlib.pyplot as plt\n",
        "\n",
        "def plot_fitness_progress(fitness_history):\n",
        "    plt.figure(figsize=(10, 5))\n",
        "    plt.plot(fitness_history, marker='o', linestyle='-', color='blue')\n",
        "    plt.title('Progres Fitness selama Iterasi ILS')\n",
        "    plt.xlabel('Iterasi ILS ke-')\n",
        "    plt.ylabel('Nilai Fitness')\n",
        "    plt.grid(True)\n",
        "    plt.xticks(range(len(fitness_history)))\n",
        "    plt.tight_layout()\n",
        "    plt.show()\n",
        "\n",
        "def visualize_schedule_hierarchical(solusi, events_lookup, rooms_lookup, days_op, start_op_hour, end_op_hour, max_event_end_h):\n",
        "\n",
        "    # Buat urutan (day, room) dan map ke posisi Y\n",
        "    day_room_pairs = []\n",
        "    for day in days_op:\n",
        "        rooms_for_day = sorted(rooms_lookup.keys())  # urutkan room jika perlu\n",
        "        for room_id in rooms_for_day:\n",
        "            day_room_pairs.append((day, room_id))\n",
        "\n",
        "    y_pos_map = {pair: i for i, pair in enumerate(day_room_pairs)}\n",
        "\n",
        "    fig, ax = plt.subplots(figsize=(14, 9))\n",
        "\n",
        "    # Warnai bar berdasar event dan plotnya\n",
        "    colors = plt.cm.tab20.colors\n",
        "    color_map = {}\n",
        "\n",
        "    for event_id, sched in solusi.items():\n",
        "        if sched is None:\n",
        "            continue\n",
        "        day = sched['day_id']\n",
        "        room_id = sched['room_id']\n",
        "        start_h = sched['start_hour']\n",
        "        dur = events_lookup[event_id]['duration_hours']\n",
        "\n",
        "        y = y_pos_map[(day, room_id)]\n",
        "        x = start_h\n",
        "        width = dur\n",
        "        if event_id not in color_map:\n",
        "            color_map[event_id] = colors[len(color_map) % len(colors)]\n",
        "\n",
        "        ax.barh(y, width, left=x, height=0.6, color=color_map[event_id], edgecolor='black')\n",
        "        ax.text(x + width/2, y, event_id, va='center', ha='center', color='white', fontsize=9, fontweight='bold')\n",
        "\n",
        "    # Setup axis x\n",
        "    ax.set_xlim(start_op_hour, max_event_end_h)\n",
        "    ax.set_xlabel('Jam')\n",
        "    ax.set_xticks(range(start_op_hour, max_event_end_h + 1))\n",
        "    ax.grid(axis='x', linestyle='--', alpha=0.7)\n",
        "\n",
        "    # Setup axis y: tick di posisi setiap (day, room) -> label hanya room\n",
        "    ax.set_ylim(-1, len(day_room_pairs))\n",
        "    ax.set_yticks(list(y_pos_map.values()))\n",
        "    ax.set_yticklabels([rooms_lookup[pair[1]]['room_name'] for pair in day_room_pairs])\n",
        "\n",
        "    # Label hari di samping kiri axis y\n",
        "    unique_days = sorted(set(days_op))\n",
        "    day_start_pos = {}\n",
        "    for day in unique_days:\n",
        "        # posisi pertama (terkecil) untuk hari itu di y_pos_map\n",
        "        positions = [y_pos_map[(day, r)] for r in rooms_lookup.keys()]\n",
        "        day_start_pos[day] = min(positions)\n",
        "\n",
        "    # Pasang label hari di kiri luar axis y dengan ax.text dan transform y axis\n",
        "    for day, ypos in day_start_pos.items():\n",
        "        ax.axhline(y=ypos - 0.5, color='black', linewidth=1.2)  # garis di atas blok hari\n",
        "        ax.text(-0.8, ypos + 0.3, f\"Hari {day}\", va='center', ha='right', transform=ax.get_yaxis_transform(), fontsize=11, fontweight='bold')\n",
        "\n",
        "    # Tambahan formatting\n",
        "    ax.invert_yaxis()  # biar hari 1 di atas\n",
        "    plt.tight_layout()\n",
        "    plt.show()\n",
        "\n",
        "\n",
        "# # Contoh pemakaian (sesuaikan variabel berikut dengan data kamu)\n",
        "# days_op = [1, 2, 3, 4, 5]  # contoh hari Senin sampai Jumat sebagai angka\n",
        "# visualize_schedule_hierarchical(\n",
        "#     solusi=hasil_solusi,\n",
        "#     events_lookup=event_dict_its,\n",
        "#     rooms_lookup=room_dict_its,\n",
        "#     days_op=days_op,\n",
        "#     start_op_hour=8,\n",
        "#     end_op_hour=17,\n",
        "#     max_event_end_h=MAX_EVENT_END_HOUR\n",
        "# )\n",
        "\n",
        "hasil_solusi, nilai_fitness, fitness_history = iterated_local_search_its(\n",
        "    jumlah_iterasi_utama=20,\n",
        "    jumlah_iterasi_hill=100,\n",
        "    all_event_ids=all_event_ids_its,\n",
        "    rooms_lookup=room_dict_its,\n",
        "    days_op=DAYS_OF_WEEK,\n",
        "    start_op_hour=START_HOUR_OPERATIONAL,\n",
        "    end_op_hour=END_HOUR_OPERATIONAL,\n",
        "    max_event_end_h=MAX_EVENT_END_HOUR\n",
        ")\n",
        "\n",
        "print(\"Fitness akhir:\", nilai_fitness)\n",
        "plot_fitness_progress(fitness_history)"
      ]
    }
  ],
  "metadata": {
    "colab": {
      "collapsed_sections": [
        "LAWF2liTqsWj",
        "jt4Cs8UJrNDb",
        "HkMF6o2D2SEJ",
        "8m7ydnI1slx1",
        "ZPB446rGBmiS"
      ],
      "include_colab_link": true,
      "provenance": []
    },
    "kernelspec": {
      "display_name": "Python 3",
      "language": "python",
      "name": "python3"
    },
    "language_info": {
      "codemirror_mode": {
        "name": "ipython",
        "version": 3
      },
      "file_extension": ".py",
      "mimetype": "text/x-python",
      "name": "python",
      "nbconvert_exporter": "python",
      "pygments_lexer": "ipython3",
      "version": "3.11.3"
    }
  },
  "nbformat": 4,
  "nbformat_minor": 0
}
