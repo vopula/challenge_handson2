{
  "cells": [
    {
      "cell_type": "markdown",
      "metadata": {
        "id": "view-in-github",
        "colab_type": "text"
      },
      "source": [
        "<a href=\"https://colab.research.google.com/github/vopula/challenge_handson2/blob/main/challenge_template.ipynb\" target=\"_parent\"><img src=\"https://colab.research.google.com/assets/colab-badge.svg\" alt=\"Open In Colab\"/></a>"
      ]
    },
    {
      "cell_type": "markdown",
      "source": [
        "##Import Libraries"
      ],
      "metadata": {
        "id": "ugSq1_Oc_sOP"
      }
    },
    {
      "cell_type": "code",
      "source": [
        "import pandas as pd\n",
        "import random\n",
        "import copy\n",
        "import math\n",
        "import time\n",
        "import matplotlib.pyplot as plt"
      ],
      "metadata": {
        "id": "veNbRwRZ_r_7"
      },
      "execution_count": null,
      "outputs": []
    },
    {
      "cell_type": "markdown",
      "source": [
        "##Dataset"
      ],
      "metadata": {
        "id": "Ms4PO_jv_ZK-"
      }
    },
    {
      "cell_type": "code",
      "source": [
        "events_data_its = [\n",
        "    {\"event_id\": \"E001\", \"event_name\": \"Seminar Nasional AI\", \"organizer\": \"HIMATEKKOM\", \"duration_hours\": 4, \"expected_participants\": 150, \"required_facility\": \"Proyektor, Sound System\", \"preferred_day\": 1, \"preferred_time_slot\": \"Pagi\", \"priority\": 1},\n",
        "    {\"event_id\": \"E002\", \"event_name\": \"Rapat Koordinasi BEM\", \"organizer\": \"BEM ITS\", \"duration_hours\": 2, \"expected_participants\": 25, \"required_facility\": \"Standar\", \"preferred_day\": 2, \"preferred_time_slot\": \"Sore\", \"priority\": 2},\n",
        "    {\"event_id\": \"E003\", \"event_name\": \"Pameran Karya Mahasiswa Arsitektur\", \"organizer\": \"HIMA ARSITEKTUR\", \"duration_hours\": 8, \"expected_participants\": 200, \"required_facility\": \"Area Pameran, Pencahayaan Baik\", \"preferred_day\": 3, \"preferred_time_slot\": \"Sepanjang Hari\", \"priority\": 1},\n",
        "    {\"event_id\": \"E004\", \"event_name\": \"Kuliah Tamu Prof. X\", \"organizer\": \"Departemen Teknik Fisika\", \"duration_hours\": 2, \"expected_participants\": 80, \"required_facility\": \"Proyektor\", \"preferred_day\": 4, \"preferred_time_slot\": \"Siang\", \"priority\": 1},\n",
        "    {\"event_id\": \"E005\", \"event_name\": \"Pelatihan Software CAD\", \"organizer\": \"HMM MESIN\", \"duration_hours\": 4, \"expected_participants\": 40, \"required_facility\": \"Lab Komputer\", \"preferred_day\": 5, \"preferred_time_slot\": \"Pagi\", \"priority\": 2},\n",
        "    {\"event_id\": \"E006\", \"event_name\": \"Diskusi Panel Lingkungan\", \"organizer\": \"ITS Green Community\", \"duration_hours\": 3, \"expected_participants\": 60, \"required_facility\": \"Proyektor, Sound System\", \"preferred_day\": 1, \"preferred_time_slot\": \"Siang\", \"priority\": 2},\n",
        "    {\"event_id\": \"E007\", \"event_name\": \"Lomba Cerdas Cermat Kimia\", \"organizer\": \"HIMATEK KIMIA\", \"duration_hours\": 5, \"expected_participants\": 100, \"required_facility\": \"Aula Kecil, Papan Tulis\", \"preferred_day\": None, \"preferred_time_slot\": \"Pagi\", \"priority\": 1},\n",
        "    {\"event_id\": \"E008\", \"event_name\": \"Rapat Internal UKM Tari\", \"organizer\": \"UKM Tari\", \"duration_hours\": 2, \"expected_participants\": 20, \"required_facility\": \"Standar\", \"preferred_day\": 3, \"preferred_time_slot\": \"Malam\", \"priority\": 3},\n",
        "    {\"event_id\": \"E009\", \"event_name\": \"Job Fair Mini\", \"organizer\": \"SAC ITS\", \"duration_hours\": 7, \"expected_participants\": 300, \"required_facility\": \"Area Pameran Luas, Meja Registrasi\", \"preferred_day\": 2, \"preferred_time_slot\": \"Sepanjang Hari\", \"priority\": 1},\n",
        "]\n",
        "\n",
        "rooms_data_its = [\n",
        "    {\"room_id\": \"R01\", \"room_name\": \"Aula Rektorat ITS\", \"capacity\": 300, \"available_facilities\": [\"Proyektor\", \"Sound System\", \"AC\", \"Panggung\", \"Area Pameran Luas\", \"Meja Registrasi\"], \"unavailable_slots\": [(3, 13, 15)]},\n",
        "    {\"room_id\": \"R02\", \"room_name\": \"Ruang Seminar T. Fisika\", \"capacity\": 100, \"available_facilities\": [\"Proyektor\", \"AC\", \"Papan Tulis\", \"Aula Kecil\"], \"unavailable_slots\": []},\n",
        "    {\"room_id\": \"R03\", \"room_name\": \"Teater A Ged. SCC\", \"capacity\": 150, \"available_facilities\": [\"Proyektor\", \"Sound System\", \"AC\", \"Layar Besar\"], \"unavailable_slots\": [(1, 8, 10)]},\n",
        "    {\"room_id\": \"R04\", \"room_name\": \"Lab Komputer Dasar Ged. TI\", \"capacity\": 40, \"available_facilities\": [\"Lab Komputer\", \"Proyektor\", \"AC\"], \"unavailable_slots\": []},\n",
        "    {\"room_id\": \"R05\", \"room_name\": \"Ruang Rapat Departemen Matematika\", \"capacity\": 30, \"available_facilities\": [\"Proyektor\", \"AC\", \"Papan Tulis\", \"Meja Rapat\", \"Standar\"], \"unavailable_slots\": [(2, 10, 12), (4,10,12)]},\n",
        "    {\"room_id\": \"R06\", \"room_name\": \"Hall Gedung Robotika\", \"capacity\": 200, \"available_facilities\": [\"Area Pameran\", \"Area Kerja Luas\", \"Listrik Banyak\", \"AC\", \"Pencahayaan Baik\"], \"unavailable_slots\": []},\n",
        "    {\"room_id\": \"R07\", \"room_name\": \"Ruang Kelas GKB Lt.3 No.301\", \"capacity\": 50, \"available_facilities\": [\"Standar\", \"Proyektor\", \"Papan Tulis\"], \"unavailable_slots\": []},\n",
        "]\n",
        "\n",
        "# Definisi Slot Waktu Operasional\n",
        "DAYS_OF_WEEK = 5 # Senin-Jumat\n",
        "START_HOUR_OPERATIONAL = 8\n",
        "END_HOUR_OPERATIONAL = 17 # Jam operasional kantor (acara bisa mulai paling lambat jam ini)\n",
        "MAX_EVENT_END_HOUR = 18 # Acara bisa selesai paling lambat jam ini"
      ],
      "metadata": {
        "id": "WuaXPLFyAD6K"
      },
      "execution_count": null,
      "outputs": []
    },
    {
      "cell_type": "markdown",
      "source": [
        "#Fungsi-Fungsi"
      ],
      "metadata": {
        "id": "P180B0o6AGMO"
      }
    },
    {
      "cell_type": "markdown",
      "source": [
        "##Membuat semua kemungkinan slot (day, hour)"
      ],
      "metadata": {
        "id": "x9_ZFzGGAbJ5"
      }
    },
    {
      "cell_type": "code",
      "source": [
        "# Helper Dictionaries & Lists\n",
        "event_dict_its = {event['event_id']: event for event in events_data_its}\n",
        "room_dict_its = {room['room_id']: room for room in rooms_data_its}\n",
        "all_event_ids_its = list(event_dict_its.keys())"
      ],
      "metadata": {
        "id": "5rr4iM-iATuH"
      },
      "execution_count": null,
      "outputs": []
    },
    {
      "cell_type": "markdown",
      "source": [
        "##Slot Tersedia"
      ],
      "metadata": {
        "id": "oc8EmS1oAXOl"
      }
    },
    {
      "cell_type": "code",
      "source": [
        "def is_slot_available(room_id, day, start_hour, duration, current_schedule, room_unavailable_slots, max_end_hour_op):\n",
        "    \"\"\" Cek apakah slot waktu tertentu di ruangan tertentu tersedia \"\"\"\n",
        "    # Cek ketersediaan ruangan dari data master\n",
        "    for unavail_day, unavail_start, unavail_end in room_unavailable_slots:\n",
        "        for h_offset in range(duration):\n",
        "            current_event_hour = start_hour + h_offset\n",
        "            if day == unavail_day and current_event_hour >= unavail_start and current_event_hour < unavail_end:\n",
        "                return False # Bertabrakan dengan jadwal unavailable ruangan\n",
        "\n",
        "    # Cek apakah sudah ada event lain di schedule pada slot tersebut\n",
        "    for h_offset in range(duration):\n",
        "        current_event_hour = start_hour + h_offset\n",
        "        if current_event_hour > max_end_hour_op -1: # Jam acara sudah di luar batas akhir\n",
        "             return False\n",
        "        for scheduled_event_id, schedule_info in current_schedule.items():\n",
        "            if schedule_info is None: continue\n",
        "            if schedule_info['room_id'] == room_id and schedule_info['day_id'] == day:\n",
        "                sch_start = schedule_info['start_hour']\n",
        "                sch_event = event_dict_its[scheduled_event_id]\n",
        "                sch_end = sch_start + sch_event['duration_hours']\n",
        "                # Cek overlap\n",
        "                if max(start_hour, sch_start) < min(start_hour + duration, sch_end):\n",
        "                    return False # Overlap\n",
        "    return True"
      ],
      "metadata": {
        "id": "Pom2GBiVAjb5"
      },
      "execution_count": null,
      "outputs": []
    },
    {
      "cell_type": "markdown",
      "source": [
        "##Mengecek Kesediaan Ruangan"
      ],
      "metadata": {
        "id": "3OQPPpS0AjHT"
      }
    },
    {
      "cell_type": "code",
      "source": [
        "def check_room_requirements(event, room):\n",
        "    # HC2: Kapasitas\n",
        "    if event['expected_participants'] > room['capacity']:\n",
        "        return False\n",
        "    # HC3: Fasilitas\n",
        "    if event.get('required_facility') and event['required_facility'] != \"Standar\":\n",
        "        needed_facilities = [f.strip().lower() for f in event['required_facility'].split(',')]\n",
        "        room_facilities_lower = [f.lower() for f in room.get('available_facilities', [])]\n",
        "        for needed_fac in needed_facilities:\n",
        "            if needed_fac not in room_facilities_lower:\n",
        "                return False\n",
        "    return True"
      ],
      "metadata": {
        "id": "Sy-m4E-YAog3"
      },
      "execution_count": null,
      "outputs": []
    },
    {
      "cell_type": "markdown",
      "source": [
        "##Solusi Awal"
      ],
      "metadata": {
        "id": "iV2VdNIUA69F"
      }
    },
    {
      "cell_type": "code",
      "source": [
        "def buat_solusi_awal_its(event_ids_to_schedule, rooms, days, start_op_hour, end_op_hour, max_event_end_h):\n",
        "    solusi = {}\n",
        "    # Urutkan event berdasarkan prioritas (opsional, tapi bisa membantu)\n",
        "    # sorted_event_ids = sorted(event_ids_to_schedule, key=lambda eid: event_dict_its[eid]['priority'])\n",
        "    shuffled_event_ids = random.sample(event_ids_to_schedule, len(event_ids_to_schedule))\n",
        "\n",
        "\n",
        "    for event_id in shuffled_event_ids:\n",
        "        event = event_dict_its[event_id]\n",
        "        best_slot_found = None\n",
        "\n",
        "        possible_placements = []\n",
        "        for room_id, room_data in rooms.items():\n",
        "            if not check_room_requirements(event, room_data):\n",
        "                continue # Ruangan tidak memenuhi syarat kapasitas/fasilitas\n",
        "\n",
        "            for day in range(1, days + 1):\n",
        "                # Coba tempatkan dengan preferensi hari jika ada\n",
        "                if event.get(\"preferred_day\") is not None and event[\"preferred_day\"] != day:\n",
        "                    continue\n",
        "\n",
        "                for start_h in range(start_op_hour, end_op_hour + 1): # Sampai jam terakhir bisa mulai\n",
        "                    if start_h + event['duration_hours'] > max_event_end_h: # Jika selesai di luar batas akhir\n",
        "                        continue\n",
        "\n",
        "                    # Cek preferensi slot waktu pagi/siang/sore\n",
        "                    # Ini bisa jadi lebih kompleks, untuk awal kita abaikan dulu di sini\n",
        "\n",
        "                    if is_slot_available(room_id, day, start_h, event['duration_hours'], solusi, room_data.get('unavailable_slots', []), max_event_end_h):\n",
        "                        possible_placements.append({'room_id': room_id, 'day_id': day, 'start_hour': start_h})\n",
        "\n",
        "        if possible_placements:\n",
        "            solusi[event_id] = random.choice(possible_placements)\n",
        "        else:\n",
        "            solusi[event_id] = None # Tidak bisa dijadwalkan\n",
        "            # print(f\"Warning: Event {event_id} tidak bisa dijadwalkan di solusi awal.\")\n",
        "\n",
        "    return solusi"
      ],
      "metadata": {
        "id": "cSuFbm3wA0RN"
      },
      "execution_count": null,
      "outputs": []
    },
    {
      "cell_type": "markdown",
      "source": [
        "##Calculate Fitness"
      ],
      "metadata": {
        "id": "1X8Mn_6yBFP7"
      }
    },
    {
      "cell_type": "code",
      "source": [
        "def calculate_fitness_its(solusi, all_target_event_ids, events_lookup, rooms_lookup,\n",
        "                          days_op, start_op_hour, end_op_hour, max_event_end_h):\n",
        "    penalty = 0\n",
        "    PENALTI_HC_BASE = 1000\n",
        "    PENALTI_SC_BASE = 50\n",
        "\n",
        "    room_day_hour_occupancy = {}\n",
        "\n",
        "    actually_scheduled_event_ids = set()\n",
        "\n",
        "    for event_id, schedule_info in solusi.items():\n",
        "        if schedule_info is None:\n",
        "            continue # Penalti untuk tidak terjadwal dihitung di akhir\n",
        "\n",
        "        actually_scheduled_event_ids.add(event_id)\n",
        "        event = events_lookup[event_id]\n",
        "        room = rooms_lookup[schedule_info['room_id']]\n",
        "        day = schedule_info['day_id']\n",
        "        start_h = schedule_info['start_hour']\n",
        "        duration = event['duration_hours']\n",
        "\n",
        "        # HC5: Durasi dalam jam operasional\n",
        "        if start_h < start_op_hour or (start_h + duration > max_event_end_h) :\n",
        "            penalty += PENALTI_HC_BASE\n",
        "            # print(f\"Debug HC5: {event_id} jam {start_h}-{start_h+duration} di luar op {start_op_hour}-{max_event_end_h}\")\n",
        "\n",
        "        for h_offset in range(duration):\n",
        "            current_hour = start_h + h_offset\n",
        "            if current_hour >= max_event_end_h : # Jika jam sudah melebihi batas akhir, slot tidak valid\n",
        "                # Penalti HC5 sudah menghitung ini jika mulai terlalu lambat\n",
        "                break\n",
        "\n",
        "            # HC1: Konflik Ruang (Overlap)\n",
        "            key_occupancy = (schedule_info['room_id'], day, current_hour)\n",
        "            if key_occupancy in room_day_hour_occupancy:\n",
        "                penalty += PENALTI_HC_BASE\n",
        "                # print(f\"Debug HC1: Konflik di {key_occupancy} oleh {event_id} dan {room_day_hour_occupancy[key_occupancy]}\")\n",
        "            else:\n",
        "                room_day_hour_occupancy[key_occupancy] = event_id\n",
        "\n",
        "            # HC4: Ketersediaan Ruang (dari unavailable_slots ruangan)\n",
        "            for unavail_day, unavail_start, unavail_end in room.get('unavailable_slots', []):\n",
        "                if day == unavail_day and current_hour >= unavail_start and current_hour < unavail_end:\n",
        "                    penalty += PENALTI_HC_BASE\n",
        "                    # print(f\"Debug HC4: {event_id} di {schedule_info['room_id']} pada slot unavail ({day}, {current_hour})\")\n",
        "                    break\n",
        "\n",
        "        # HC2: Kapasitas Ruang\n",
        "        if event['expected_participants'] > room['capacity']:\n",
        "            penalty += PENALTI_HC_BASE * max(1, (event['expected_participants'] - room['capacity']) // 10)\n",
        "            # print(f\"Debug HC2: {event_id} butuh {event['expected_participants']}, {room['room_id']} kap {room['capacity']}\")\n",
        "\n",
        "        # HC3: Fasilitas Ruang\n",
        "        if event.get('required_facility') and event['required_facility'] != \"Standar\":\n",
        "            needed_facilities = [f.strip().lower() for f in event['required_facility'].split(',')]\n",
        "            room_facilities_lower = [f.lower() for f in room.get('available_facilities', [])]\n",
        "            has_all_needed = True\n",
        "            for needed_fac in needed_facilities:\n",
        "                if needed_fac not in room_facilities_lower:\n",
        "                    has_all_needed = False\n",
        "                    break\n",
        "            if not has_all_needed:\n",
        "                penalty += PENALTI_HC_BASE\n",
        "                # print(f\"Debug HC3: {event_id} butuh {event['required_facility']}, tidak semua ada di {room['room_id']}\")\n",
        "\n",
        "        # --- Soft Constraints ---\n",
        "        # SC1: Preferensi Waktu/Hari\n",
        "        if event.get(\"preferred_day\") is not None and event[\"preferred_day\"] != day:\n",
        "            penalty += PENALTI_SC_BASE\n",
        "\n",
        "        pref_time_slot = event.get(\"preferred_time_slot\")\n",
        "        if pref_time_slot:\n",
        "            is_preferred_time = False\n",
        "            if pref_time_slot == \"Pagi\" and start_h >= 8 and start_h <= 10: is_preferred_time = True # Misal 08-11\n",
        "            elif pref_time_slot == \"Siang\" and start_h >= 11 and start_h <= 13: is_preferred_time = True # Misal 11-14\n",
        "            elif pref_time_slot == \"Sore\" and start_h >= 14 and start_h <= 16: is_preferred_time = True # Misal 14-17\n",
        "            elif pref_time_slot == \"Malam\" and start_h >= 17 : is_preferred_time = True # Mulai jam 17 ke atas\n",
        "            elif pref_time_slot == \"Sepanjang Hari\": is_preferred_time = True # Selalu terpenuhi jika terjadwal\n",
        "\n",
        "            if not is_preferred_time and pref_time_slot != \"Sepanjang Hari\":\n",
        "                penalty += PENALTI_SC_BASE\n",
        "\n",
        "    # HC6: Event Terjadwal\n",
        "    if not isinstance(all_target_event_ids, set):\n",
        "        set_all_target_event_ids = set(all_target_event_ids)\n",
        "    else:\n",
        "        set_all_target_event_ids = all_target_event_ids\n",
        "\n",
        "    unscheduled_count = len(set_all_target_event_ids - actually_scheduled_event_ids)\n",
        "    penalty += unscheduled_count * PENALTI_HC_BASE * 10 # Penalti sangat besar\n",
        "\n",
        "    return penalty"
      ],
      "metadata": {
        "id": "qVvIS65nBHJA"
      },
      "execution_count": null,
      "outputs": []
    },
    {
      "cell_type": "markdown",
      "source": [
        "##Get Neighbor"
      ],
      "metadata": {
        "id": "98RbzYaLBJbq"
      }
    },
    {
      "cell_type": "code",
      "source": [
        "def dapatkan_tetangga_its(solusi_saat_ini, all_event_ids, rooms_lookup, days, start_op_h, end_op_h, max_event_end_h, mode=\"move_event\"):\n",
        "    tetangga = copy.deepcopy(solusi_saat_ini)\n",
        "    if not all_event_ids: return tetangga\n",
        "\n",
        "    event_to_change_id = random.choice(all_event_ids)\n",
        "    event_to_change_data = event_dict_its[event_to_change_id]\n",
        "\n",
        "    if mode == \"move_event\":\n",
        "        # Coba pindahkan event_to_change_id ke slot/ruang baru yang valid dan kosong\n",
        "        current_placement = tetangga.get(event_to_change_id)\n",
        "\n",
        "        # Hapus sementara event ini dari schedule untuk cek ketersediaan\n",
        "        temp_schedule_without_event = {e_id: p for e_id, p in tetangga.items() if e_id != event_to_change_id and p is not None}\n",
        "\n",
        "        possible_new_placements = []\n",
        "        for room_id_new, room_data_new in rooms_lookup.items():\n",
        "            if not check_room_requirements(event_to_change_data, room_data_new):\n",
        "                continue\n",
        "            for day_new in range(1, days + 1):\n",
        "                for start_h_new in range(start_op_h, end_op_h + 1):\n",
        "                    if start_h_new + event_to_change_data['duration_hours'] > max_event_end_h:\n",
        "                        continue\n",
        "                    if is_slot_available(room_id_new, day_new, start_h_new, event_to_change_data['duration_hours'],\n",
        "                                         temp_schedule_without_event, room_data_new.get('unavailable_slots', []), max_event_end_h):\n",
        "                        possible_new_placements.append({'room_id': room_id_new, 'day_id': day_new, 'start_hour': start_h_new})\n",
        "\n",
        "        if possible_new_placements:\n",
        "            tetangga[event_to_change_id] = random.choice(possible_new_placements)\n",
        "        # else: event tetap di tempatnya atau tidak terjadwal jika sebelumnya None\n",
        "\n",
        "    elif mode == \"swap_events\":\n",
        "        scheduled_events = [eid for eid, p in tetangga.items() if p is not None]\n",
        "        if len(scheduled_events) < 2: return tetangga # Butuh minimal 2 event terjadwal untuk ditukar\n",
        "\n",
        "        event1_id = random.choice(scheduled_events)\n",
        "        event2_id = random.choice(scheduled_events)\n",
        "        while event2_id == event1_id and len(scheduled_events) > 1 :\n",
        "             event2_id = random.choice(scheduled_events)\n",
        "        if event1_id == event2_id: return tetangga\n",
        "\n",
        "\n",
        "        event1_data = event_dict_its[event1_id]\n",
        "        event2_data = event_dict_its[event2_id]\n",
        "\n",
        "        p1 = tetangga[event1_id] # placement event 1\n",
        "        p2 = tetangga[event2_id] # placement event 2\n",
        "\n",
        "        # Cek apakah event1 bisa di slot p2 dan event2 bisa di slot p1\n",
        "        # Ini perlu validasi ketersediaan slot jika event lain dihapus sementara, dan validasi requirement\n",
        "\n",
        "        # Buat temporary schedule tanpa event1 dan event2\n",
        "        temp_schedule_swap = {eid: p for eid, p in tetangga.items() if eid not in [event1_id, event2_id] and p is not None}\n",
        "\n",
        "        # Cek apakah event1 valid di slot p2\n",
        "        valid_e1_at_p2 = False\n",
        "        if check_room_requirements(event1_data, rooms_lookup[p2['room_id']]):\n",
        "            if is_slot_available(p2['room_id'], p2['day_id'], p2['start_hour'], event1_data['duration_hours'],\n",
        "                                 temp_schedule_swap, rooms_lookup[p2['room_id']].get('unavailable_slots',[]), max_event_end_h):\n",
        "                valid_e1_at_p2 = True\n",
        "\n",
        "        # Cek apakah event2 valid di slot p1\n",
        "        valid_e2_at_p1 = False\n",
        "        if check_room_requirements(event2_data, rooms_lookup[p1['room_id']]):\n",
        "            if is_slot_available(p1['room_id'], p1['day_id'], p1['start_hour'], event2_data['duration_hours'],\n",
        "                                 temp_schedule_swap, rooms_lookup[p1['room_id']].get('unavailable_slots',[]), max_event_end_h):\n",
        "                valid_e2_at_p1 = True\n",
        "\n",
        "        if valid_e1_at_p2 and valid_e2_at_p1:\n",
        "            # Lakukan swap\n",
        "            tetangga[event1_id] = {'room_id': p2['room_id'], 'day_id': p2['day_id'], 'start_hour': p2['start_hour']}\n",
        "            tetangga[event2_id] = {'room_id': p1['room_id'], 'day_id': p1['day_id'], 'start_hour': p1['start_hour']}\n",
        "\n",
        "    elif mode == \"schedule_unscheduled\":\n",
        "        unscheduled_events = [eid for eid in all_event_ids if tetangga.get(eid) is None]\n",
        "        if not unscheduled_events: return tetangga\n",
        "\n",
        "        event_to_schedule_id = random.choice(unscheduled_events)\n",
        "        event_to_schedule_data = event_dict_its[event_to_schedule_id]\n",
        "\n",
        "        possible_placements = []\n",
        "        for room_id_new, room_data_new in rooms_lookup.items():\n",
        "            if not check_room_requirements(event_to_schedule_data, room_data_new):\n",
        "                continue\n",
        "            for day_new in range(1, days + 1):\n",
        "                for start_h_new in range(start_op_h, end_op_h + 1):\n",
        "                    if start_h_new + event_to_schedule_data['duration_hours'] > max_event_end_h:\n",
        "                        continue\n",
        "                    if is_slot_available(room_id_new, day_new, start_h_new, event_to_schedule_data['duration_hours'],\n",
        "                                         tetangga, room_data_new.get('unavailable_slots', []), max_event_end_h):\n",
        "                        possible_placements.append({'room_id': room_id_new, 'day_id': day_new, 'start_hour': start_h_new})\n",
        "        if possible_placements:\n",
        "            tetangga[event_to_schedule_id] = random.choice(possible_placements)\n",
        "\n",
        "    return tetangga"
      ],
      "metadata": {
        "id": "KlJ6KY0FBKxk"
      },
      "execution_count": null,
      "outputs": []
    },
    {
      "cell_type": "markdown",
      "source": [
        "#Implementasi Algoritma ILS"
      ],
      "metadata": {
        "id": "YpeXHjoUDKk0"
      }
    },
    {
      "cell_type": "markdown",
      "source": [
        "## Fungsi Local Search (Hill Climbing)"
      ],
      "metadata": {
        "id": "2aVnpZjRBdzT"
      }
    },
    {
      "cell_type": "code",
      "source": [
        "def"
      ],
      "metadata": {
        "id": "Lb350_oUBmgE"
      },
      "execution_count": null,
      "outputs": []
    },
    {
      "cell_type": "markdown",
      "source": [
        "## Fungsi Perturbasi"
      ],
      "metadata": {
        "id": "iUQ4XL2vBnRi"
      }
    },
    {
      "cell_type": "code",
      "source": [
        "def"
      ],
      "metadata": {
        "id": "pMcvA4eGBrtr"
      },
      "execution_count": null,
      "outputs": []
    },
    {
      "cell_type": "markdown",
      "source": [
        "## Fungsi ILS"
      ],
      "metadata": {
        "id": "ZxjVfOD7Br6b"
      }
    },
    {
      "cell_type": "code",
      "source": [
        "def"
      ],
      "metadata": {
        "id": "iD9APfG-B2MU"
      },
      "execution_count": null,
      "outputs": []
    },
    {
      "cell_type": "markdown",
      "source": [
        "## Analisis"
      ],
      "metadata": {
        "id": "Lcl3zlMTB6U4"
      }
    },
    {
      "cell_type": "code",
      "source": [],
      "metadata": {
        "id": "x39qzepHB85a"
      },
      "execution_count": null,
      "outputs": []
    },
    {
      "cell_type": "markdown",
      "source": [
        "## Visualisasi dan Verifikasi Akhir"
      ],
      "metadata": {
        "id": "_yWrEFXtB9Og"
      }
    },
    {
      "cell_type": "code",
      "source": [],
      "metadata": {
        "id": "wWpxEWOoDTG4"
      },
      "execution_count": null,
      "outputs": []
    }
  ],
  "metadata": {
    "colab": {
      "collapsed_sections": [
        "LAWF2liTqsWj",
        "jt4Cs8UJrNDb",
        "HkMF6o2D2SEJ",
        "8m7ydnI1slx1",
        "ZPB446rGBmiS"
      ],
      "provenance": [],
      "include_colab_link": true
    },
    "kernelspec": {
      "display_name": "Python 3",
      "language": "python",
      "name": "python3"
    },
    "language_info": {
      "codemirror_mode": {
        "name": "ipython",
        "version": 3
      },
      "file_extension": ".py",
      "mimetype": "text/x-python",
      "name": "python",
      "nbconvert_exporter": "python",
      "pygments_lexer": "ipython3",
      "version": "3.8.8"
    }
  },
  "nbformat": 4,
  "nbformat_minor": 0
}